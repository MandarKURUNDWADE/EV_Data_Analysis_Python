{
 "cells": [
  {
   "cell_type": "markdown",
   "metadata": {},
   "source": [
    "<h2 style=\"text-align:center;\">Electric Vehicle Data Analysis Project</h2>\n",
    "\n",
    "<h3 style=\"text-align:center;\">Python-Final Project</h3>\n",
    "\n",
    "---"
   ]
  },
  {
   "cell_type": "markdown",
   "metadata": {},
   "source": [
    "<h4>Task 5: Inferential Statistics – Hypothesis Testing:</h4>"
   ]
  },
  {
   "cell_type": "markdown",
   "metadata": {},
   "source": [
    "Test whether there is a significant difference in the average **Engine power [KM]** of vehicles manufactured by two leading manufacturers i.e. **Tesla** and **Audi**. What insights can you draw from the test results? Recommendations and Conclusion: Provide actionable insights based on your analysis. \n",
    "\n",
    "(Conduct a two sample t-test using **ttest_ind** from **scipy.stats** module)\n",
    "\n",
    "---"
   ]
  },
  {
   "cell_type": "markdown",
   "metadata": {},
   "source": [
    "**Step 1: Import Required Libraries**\n",
    "\n",
    "We are use `pandas` for data manipulation and `scipy.stats` for hypothesis testing."
   ]
  },
  {
   "cell_type": "code",
   "execution_count": 1,
   "metadata": {},
   "outputs": [],
   "source": [
    "import pandas as pd\n",
    "from scipy.stats import ttest_ind\n",
    "import warnings\n",
    "\n",
    "# Suppress all DeprecationWarnings\n",
    "warnings.simplefilter(\"ignore\", category=DeprecationWarning)"
   ]
  },
  {
   "cell_type": "markdown",
   "metadata": {},
   "source": [
    "**Step 2: Load the Dataset**\n",
    "\n",
    "We are load the dataset into a Pandas DataFrame."
   ]
  },
  {
   "cell_type": "code",
   "execution_count": 2,
   "metadata": {},
   "outputs": [],
   "source": [
    "# Define the dataset as a dictionary\n",
    "data = pd.read_csv('auta_elektryczne_cleaned.csv')\n",
    "\n",
    "# Convert the dictionary to a Pandas DataFrame\n",
    "df = pd.DataFrame(data)"
   ]
  },
  {
   "cell_type": "markdown",
   "metadata": {},
   "source": [
    "**Step 3: Filter Data for Tesla and Audi**\n",
    "\n",
    "We are filter the dataset to include only Tesla and Audi vehicles."
   ]
  },
  {
   "cell_type": "code",
   "execution_count": 3,
   "metadata": {},
   "outputs": [],
   "source": [
    "# Filter data for Tesla and Audi\n",
    "tesla_data = df[df[\"Make\"] == \"Tesla\"][\"Engine power [KM]\"]\n",
    "audi_data = df[df[\"Make\"] == \"Audi\"][\"Engine power [KM]\"]\n"
   ]
  },
  {
   "cell_type": "markdown",
   "metadata": {},
   "source": [
    "**Step 4: Perform the Two-Sample t-Test**\n",
    "\n",
    "We are use the `ttest_ind` function to perform the t-test. This function returns the t-statistic and the p-value."
   ]
  },
  {
   "cell_type": "code",
   "execution_count": null,
   "metadata": {},
   "outputs": [
    {
     "name": "stdout",
     "output_type": "stream",
     "text": [
      "T-Statistic: 1.79\n",
      "P-Value: 0.1068\n"
     ]
    }
   ],
   "source": [
    "# Perform the two-sample t-test\n",
    "# Assume unequal variances\n",
    "t_statistic, p_value = ttest_ind(tesla_data, audi_data,\n",
    "                                 equal_var=False)  \n",
    "\n",
    "# Display the results\n",
    "print(f\"T-Statistic: {t_statistic:.2f}\")\n",
    "print(f\"P-Value: {p_value:.4f}\")\n"
   ]
  },
  {
   "cell_type": "markdown",
   "metadata": {},
   "source": [
    "**Step 5: Interpret the Results**\n",
    "\n",
    "The results of the t-test help us determine if there is a significant difference in the average engine power between Tesla and Audi vehicles.\n",
    "\n",
    "- **Null Hypothesis (H₀)**: There is no significant difference in the average engine power between Tesla and Audi vehicles.\n",
    "- **Alternative Hypothesis (H₁)**: There is a significant difference in the average engine power between Tesla and Audi vehicles.\n",
    "\n",
    "We will use a significance level (α) of **0.05**.\n",
    "\n",
    "1. **If p-value < 0.05**:\n",
    "    - We reject the null hypothesis and conclude that there is a significant difference in the average engine power between Tesla and Audi vehicles.\n",
    "2. **If p-value ≥ 0.05**:\n",
    "    - We fail to reject the null hypothesis and conclude that there is no significant difference in the average engine power between Tesla and Audi vehicles."
   ]
  },
  {
   "cell_type": "code",
   "execution_count": null,
   "metadata": {},
   "outputs": [
    {
     "name": "stdout",
     "output_type": "stream",
     "text": [
      "\n",
      "T-Statistic: 1.79\n",
      "P-Value: 0.1068\n",
      "\n",
      "There is no significant difference in the average engine power between Tesla and Audi vehicles.\n"
     ]
    }
   ],
   "source": [
    "import pandas as pd\n",
    "from scipy.stats import ttest_ind\n",
    "\n",
    "# Load the dataset\n",
    "data = pd.read_csv('auta_elektryczne_cleaned.csv')\n",
    "\n",
    "df = pd.DataFrame(data)\n",
    "\n",
    "# Filter data for Tesla and Audi\n",
    "tesla_data = df[\n",
    "    df[\"Make\"] == \"Tesla\"\n",
    "    ][\"Engine power [KM]\"]\n",
    "\n",
    "audi_data = df[\n",
    "    df[\"Make\"] == \"Audi\"\n",
    "    ][\"Engine power [KM]\"]\n",
    "\n",
    "# Perform the two-sample t-test\n",
    "# Assume unequal variances\n",
    "t_statistic, p_value = ttest_ind(tesla_data, \n",
    "                                 audi_data, \n",
    "                                 equal_var=False)  \n",
    "\n",
    "# Display the results\n",
    "print(f\"\\nT-Statistic: {t_statistic:.2f}\")\n",
    "print(f\"P-Value: {p_value:.4f}\")\n",
    "\n",
    "# Interpret the results\n",
    "if p_value < 0.05:\n",
    "    print(\"\\nThere is a significant difference \\\n",
    "          in the average engine power between \\\n",
    "          Tesla and Audi vehicles.\")\n",
    "else:\n",
    "    print(\"\\nThere is no significant difference \\\n",
    "          in the average engine power between \\\n",
    "          Tesla and Audi vehicles.\")\n"
   ]
  },
  {
   "cell_type": "markdown",
   "metadata": {},
   "source": [
    "---"
   ]
  }
 ],
 "metadata": {
  "kernelspec": {
   "display_name": "JupyterBook",
   "language": "python",
   "name": "python3"
  },
  "language_info": {
   "codemirror_mode": {
    "name": "ipython",
    "version": 3
   },
   "file_extension": ".py",
   "mimetype": "text/x-python",
   "name": "python",
   "nbconvert_exporter": "python",
   "pygments_lexer": "ipython3",
   "version": "3.11.11"
  }
 },
 "nbformat": 4,
 "nbformat_minor": 2
}
