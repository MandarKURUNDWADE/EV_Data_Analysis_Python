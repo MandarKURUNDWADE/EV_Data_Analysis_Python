{
 "cells": [
  {
   "cell_type": "markdown",
   "metadata": {},
   "source": [
    "<h2 style=\"text-align:center;\">Electric Vehicle Data Analysis Project</h2>\n",
    "\n",
    "<h3 style=\"text-align:center;\">Python-Final Project</h3>\n",
    "\n",
    "---"
   ]
  },
  {
   "cell_type": "markdown",
   "metadata": {},
   "source": [
    "<h4>Task 4: Build an EV recommendation class.</h4>"
   ]
  },
  {
   "cell_type": "markdown",
   "metadata": {},
   "source": [
    "**The class should allow users to input their budget, desired range, and battery capacity. The class should then return the top three EVs matching their criteria.**\n",
    "\n",
    "---"
   ]
  },
  {
   "cell_type": "markdown",
   "metadata": {},
   "source": [
    "**Step 1: Import Required Libraries**\n",
    "\n",
    "We are use the `pandas` library to handle the dataset and filter the EVs based on user input."
   ]
  },
  {
   "cell_type": "code",
   "execution_count": 1,
   "metadata": {},
   "outputs": [],
   "source": [
    "import pandas as pd\n",
    "import warnings\n",
    "\n",
    "# Suppress all DeprecationWarnings\n",
    "warnings.simplefilter(\"ignore\", category=DeprecationWarning)"
   ]
  },
  {
   "cell_type": "markdown",
   "metadata": {},
   "source": [
    "**Step 2: Load the Dataset**\n",
    "\n",
    "We are load the dataset into a Pandas DataFrame. For simplicity, we will use the dataset provided in the question."
   ]
  },
  {
   "cell_type": "code",
   "execution_count": 2,
   "metadata": {},
   "outputs": [],
   "source": [
    "# Define the dataset as a dictionary\n",
    "data = pd.read_csv('auta_elektryczne_cleaned.csv')\n",
    "\n",
    "# Convert the dictionary to a Pandas DataFrame\n",
    "df = pd.DataFrame(data)"
   ]
  },
  {
   "cell_type": "markdown",
   "metadata": {},
   "source": [
    "**Step 3: Define the EV Recommendation Class**\n",
    "\n",
    "We are create a class called `EVRecommender` that takes the dataset as input and provides a method to recommend EVs based on user criteria."
   ]
  },
  {
   "cell_type": "code",
   "execution_count": 3,
   "metadata": {},
   "outputs": [],
   "source": [
    "class EVRecommender:\n",
    "    def __init__(self, data):\n",
    "        \"\"\"\n",
    "        Initialize the EVRecommender class with the dataset.\n",
    "        \"\"\"\n",
    "        self.data = data\n",
    "\n",
    "    def recommend_evs(self, budget, desired_range, desired_battery_capacity):\n",
    "        \"\"\"\n",
    "        Recommend top 3 EVs based on user input.\n",
    "\n",
    "        Parameters:\n",
    "        - budget (float): The user's budget in PLN.\n",
    "        - desired_range (float): The desired range in kilometers.\n",
    "        - desired_battery_capacity (float): The desired battery capacity in kWh.\n",
    "\n",
    "        Returns:\n",
    "        - A DataFrame containing the top 3 EVs matching the criteria.\n",
    "        \"\"\"\n",
    "        # Filter the dataset based on user input\n",
    "        filtered_data = self.data[\n",
    "            (self.data[\"Minimal price (gross) [PLN]\"] <= budget) &\n",
    "            (self.data[\"Range (WLTP) [km]\"] >= desired_range) &\n",
    "            (self.data[\"Battery capacity [kWh]\"] >= desired_battery_capacity)\n",
    "        ]\n",
    "\n",
    "        # Sort the filtered data by price (ascending) and range (descending)\n",
    "        sorted_data = filtered_data.sort_values(\n",
    "            by=[\"Minimal price (gross) [PLN]\", \"Range (WLTP) [km]\"],\n",
    "            ascending=[True, False]\n",
    "        )\n",
    "\n",
    "        # Return the top 3 EVs\n",
    "        return sorted_data.head(3)\n"
   ]
  },
  {
   "cell_type": "markdown",
   "metadata": {},
   "source": [
    "**Step 4: Use the EV Recommendation Class**\n",
    "\n",
    "We are now use the `EVRecommender` class to recommend EVs based on user input."
   ]
  },
  {
   "cell_type": "code",
   "execution_count": 4,
   "metadata": {},
   "outputs": [
    {
     "name": "stdout",
     "output_type": "stream",
     "text": [
      "Top 3 EVs matching your criteria:\n",
      "               Car full name        Make               Model  \\\n",
      "48     Volkswagen ID.3 Pro S  Volkswagen          ID.3 Pro S   \n",
      "49       Volkswagen ID.4 1st  Volkswagen            ID.4 1st   \n",
      "40  Tesla Model 3 Long Range       Tesla  Model 3 Long Range   \n",
      "\n",
      "    Minimal price (gross) [PLN]  Engine power [KM]  Maximum torque [Nm]  \\\n",
      "48                       179990                204                  310   \n",
      "49                       202390                204                  310   \n",
      "40                       235490                372                  510   \n",
      "\n",
      "    Battery capacity [kWh]  Range (WLTP) [km]  Wheelbase [cm]  Length [cm]  \\\n",
      "48                    77.0                549           277.0        426.1   \n",
      "49                    77.0                500           277.1        458.4   \n",
      "40                    75.0                580           287.5        469.0   \n",
      "\n",
      "    ...  Tire size [in]  Maximum speed [kph]  Boot capacity (VDA) [l]  \\\n",
      "48  ...              19                  160                    385.0   \n",
      "49  ...              20                  160                    543.0   \n",
      "40  ...              18                  233                    425.0   \n",
      "\n",
      "    Acceleration 0-100 kph [s]  Maximum DC charging power [kW]  \\\n",
      "48                         7.9                             125   \n",
      "49                         8.5                             125   \n",
      "40                         4.4                             150   \n",
      "\n",
      "    mean - Energy consumption [kWh/100 km]  Front Brakes  Rear Brakes  \\\n",
      "48                                   15.90          disc         drum   \n",
      "49                                   18.00          disc         drum   \n",
      "40                                   18.99          disc         disc   \n",
      "\n",
      "    Drive Type  Drive Position  \n",
      "48         2WD            rear  \n",
      "49         2WD            rear  \n",
      "40         4WD             NaN  \n",
      "\n",
      "[3 rows x 27 columns]\n"
     ]
    }
   ],
   "source": [
    "# Initialize the EVRecommender class with the dataset\n",
    "ev_recommender = EVRecommender(df)\n",
    "\n",
    "# User input\n",
    "budget = 300000  # Example budget in PLN\n",
    "desired_range = 400  # Example desired range in km\n",
    "desired_battery_capacity = 70  # Example desired battery capacity in kWh\n",
    "\n",
    "# Get recommendations\n",
    "recommendations = ev_recommender.recommend_evs(budget, desired_range, desired_battery_capacity)\n",
    "\n",
    "# Display the recommendations\n",
    "print(\"Top 3 EVs matching your criteria:\")\n",
    "print(recommendations)"
   ]
  },
  {
   "cell_type": "markdown",
   "metadata": {},
   "source": [
    "---"
   ]
  },
  {
   "cell_type": "markdown",
   "metadata": {},
   "source": [
    "**Step 6: Analysis:**\n",
    "\n",
    "The `EVRecommender` class works as follows:\n",
    "\n",
    "1. **Filtering**:\n",
    "    - The dataset is filtered based on the user's budget, desired range, and desired battery capacity.\n",
    "    - Only EVs that meet all three criteria are considered.\n",
    "2. **Sorting**:\n",
    "    - The filtered EVs are sorted by price (ascending) and range (descending). This ensures that the most affordable and longest-range EVs are prioritized.\n",
    "3. **Recommendation**:\n",
    "    - The top three EVs matching the criteria are returned to the user.\n",
    "4. **Flexibility**:\n",
    "    - The class can be easily extended to include additional filters, such as acceleration, boot capacity, or brand preference.\n",
    "5. **Practical Use**:\n",
    "    - This tool is useful for consumers who want to quickly narrow down their options based on their specific needs and budget."
   ]
  },
  {
   "cell_type": "markdown",
   "metadata": {},
   "source": [
    "---"
   ]
  }
 ],
 "metadata": {
  "kernelspec": {
   "display_name": "JupyterBook",
   "language": "python",
   "name": "python3"
  },
  "language_info": {
   "codemirror_mode": {
    "name": "ipython",
    "version": 3
   },
   "file_extension": ".py",
   "mimetype": "text/x-python",
   "name": "python",
   "nbconvert_exporter": "python",
   "pygments_lexer": "ipython3",
   "version": "3.11.11"
  }
 },
 "nbformat": 4,
 "nbformat_minor": 2
}
