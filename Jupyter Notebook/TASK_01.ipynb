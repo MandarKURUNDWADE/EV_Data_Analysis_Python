{
 "cells": [
  {
   "cell_type": "markdown",
   "metadata": {},
   "source": [
    "<h2 style=\"text-align:center;\">Electric Vehicle Data Analysis Project</h2>\n",
    "\n",
    "<h3 style=\"text-align:center;\">Python-Final Project</h3>"
   ]
  },
  {
   "cell_type": "markdown",
   "metadata": {},
   "source": [
    "---"
   ]
  },
  {
   "cell_type": "markdown",
   "metadata": {},
   "source": [
    "<h4>Task 1: A customer has a budget of 350,000 PLN and wants an EV with a minimum range of 400 km.</h4>\n",
    "\n",
    "a. Your task is to filter out EVs that meet these criteria.\n",
    "\n",
    "b. Group them by the manufacturer (Make).\n",
    "\n",
    "c. Calculate the average battery capacity for each manufacturer."
   ]
  },
  {
   "cell_type": "markdown",
   "metadata": {},
   "source": [
    "---"
   ]
  },
  {
   "cell_type": "markdown",
   "metadata": {},
   "source": [
    "<h4>a. Your task is to filter out EVs that meet these criteria.</h4>"
   ]
  },
  {
   "cell_type": "markdown",
   "metadata": {},
   "source": [
    "**Step 1: Import Required Libraries**\n",
    "\n",
    "We are use Pandas for data manipulation and filtering."
   ]
  },
  {
   "cell_type": "code",
   "execution_count": 13,
   "metadata": {},
   "outputs": [],
   "source": [
    "import pandas as pd\n",
    "import warnings\n",
    "\n",
    "# Suppress all DeprecationWarnings\n",
    "warnings.simplefilter(\"ignore\", category=DeprecationWarning)"
   ]
  },
  {
   "cell_type": "markdown",
   "metadata": {},
   "source": [
    "**Step 2: Load the Dataset**\n",
    "\n",
    "We are load the dataset into a Pandas DataFrame for analysis."
   ]
  },
  {
   "cell_type": "code",
   "execution_count": 14,
   "metadata": {},
   "outputs": [],
   "source": [
    "# Define the dataset as a dictionary\n",
    "data = pd.read_csv('auta_elektryczne_cleaned.csv')\n",
    "\n",
    "# Convert the dictionary to a Pandas DataFrame\n",
    "df = pd.DataFrame(data)"
   ]
  },
  {
   "cell_type": "markdown",
   "metadata": {},
   "source": [
    "**Step 3: Filter the Dataset**\n",
    "\n",
    "We are filter the dataset based on the customer's criteria:\n",
    "\n",
    "1. **Budget**: Minimal price ≤ 350,000 PLN.\n",
    "2. **Range**: Range (WLTP) ≥ 400 km."
   ]
  },
  {
   "cell_type": "code",
   "execution_count": 15,
   "metadata": {},
   "outputs": [
    {
     "name": "stdout",
     "output_type": "stream",
     "text": [
      "                        Car full name           Make  \\\n",
      "0              Audi e-tron 55 quattro           Audi   \n",
      "8                             BMW iX3            BMW   \n",
      "15        Hyundai Kona electric 64kWh        Hyundai   \n",
      "18                   Kia e-Niro 64kWh            Kia   \n",
      "20                   Kia e-Soul 64kWh            Kia   \n",
      "22                  Mercedes-Benz EQC  Mercedes-Benz   \n",
      "39  Tesla Model 3 Standard Range Plus          Tesla   \n",
      "40           Tesla Model 3 Long Range          Tesla   \n",
      "41          Tesla Model 3 Performance          Tesla   \n",
      "47    Volkswagen ID.3 Pro Performance     Volkswagen   \n",
      "48              Volkswagen ID.3 Pro S     Volkswagen   \n",
      "49                Volkswagen ID.4 1st     Volkswagen   \n",
      "\n",
      "                          Model  Minimal price (gross) [PLN]  \\\n",
      "0             e-tron 55 quattro                       345700   \n",
      "8                           iX3                       282900   \n",
      "15          Kona electric 64kWh                       178400   \n",
      "18                 e-Niro 64kWh                       167990   \n",
      "20                 e-Soul 64kWh                       160990   \n",
      "22                          EQC                       334700   \n",
      "39  Model 3 Standard Range Plus                       195490   \n",
      "40           Model 3 Long Range                       235490   \n",
      "41          Model 3 Performance                       260490   \n",
      "47         ID.3 Pro Performance                       155890   \n",
      "48                   ID.3 Pro S                       179990   \n",
      "49                     ID.4 1st                       202390   \n",
      "\n",
      "    Range (WLTP) [km]  \n",
      "0                 438  \n",
      "8                 460  \n",
      "15                449  \n",
      "18                455  \n",
      "20                452  \n",
      "22                414  \n",
      "39                430  \n",
      "40                580  \n",
      "41                567  \n",
      "47                425  \n",
      "48                549  \n",
      "49                500  \n"
     ]
    }
   ],
   "source": [
    "# Filter the DataFrame\n",
    "filtered_df = df[\n",
    "    (df[\"Minimal price (gross) [PLN]\"] <= 350000) &\n",
    "    (df[\"Range (WLTP) [km]\"] >= 400)\n",
    "]\n",
    "\n",
    "# Display the filtered results\n",
    "print(filtered_df[[\"Car full name\", \"Make\", \"Model\", \n",
    "                   \"Minimal price (gross) [PLN]\", \n",
    "                   \"Range (WLTP) [km]\"]])\n"
   ]
  },
  {
   "cell_type": "markdown",
   "metadata": {},
   "source": [
    "---"
   ]
  },
  {
   "cell_type": "markdown",
   "metadata": {},
   "source": [
    "<h4> b. Group them by the manufacturer (Make). </h4>"
   ]
  },
  {
   "cell_type": "markdown",
   "metadata": {},
   "source": [
    "**Step 1: Import Required Libraries**\n",
    "\n",
    "We are use Pandas for data manipulation and filtering."
   ]
  },
  {
   "cell_type": "code",
   "execution_count": 16,
   "metadata": {},
   "outputs": [],
   "source": [
    "import pandas as pd"
   ]
  },
  {
   "cell_type": "markdown",
   "metadata": {},
   "source": [
    "**Step 2: Load the Dataset**\n",
    "\n",
    "We are load the dataset into a Pandas DataFrame for analysis."
   ]
  },
  {
   "cell_type": "code",
   "execution_count": 17,
   "metadata": {},
   "outputs": [],
   "source": [
    "# Define the dataset as a dictionary\n",
    "data = pd.read_csv('auta_elektryczne_cleaned.csv')\n",
    "\n",
    "# Convert the dictionary to a Pandas DataFrame\n",
    "df = pd.DataFrame(data)"
   ]
  },
  {
   "cell_type": "markdown",
   "metadata": {},
   "source": [
    "**Step 3: Filter the Dataset**\n",
    "\n",
    "We are filter the dataset based on the customer's criteria:\n",
    "\n",
    "1. **Budget**: Minimal price ≤ 350,000 PLN.\n",
    "2. **Range**: Range (WLTP) ≥ 400 km."
   ]
  },
  {
   "cell_type": "code",
   "execution_count": 18,
   "metadata": {},
   "outputs": [
    {
     "name": "stdout",
     "output_type": "stream",
     "text": [
      "                        Car full name           Make  \\\n",
      "0              Audi e-tron 55 quattro           Audi   \n",
      "8                             BMW iX3            BMW   \n",
      "15        Hyundai Kona electric 64kWh        Hyundai   \n",
      "18                   Kia e-Niro 64kWh            Kia   \n",
      "20                   Kia e-Soul 64kWh            Kia   \n",
      "22                  Mercedes-Benz EQC  Mercedes-Benz   \n",
      "39  Tesla Model 3 Standard Range Plus          Tesla   \n",
      "40           Tesla Model 3 Long Range          Tesla   \n",
      "41          Tesla Model 3 Performance          Tesla   \n",
      "47    Volkswagen ID.3 Pro Performance     Volkswagen   \n",
      "48              Volkswagen ID.3 Pro S     Volkswagen   \n",
      "49                Volkswagen ID.4 1st     Volkswagen   \n",
      "\n",
      "                          Model  Minimal price (gross) [PLN]  \\\n",
      "0             e-tron 55 quattro                       345700   \n",
      "8                           iX3                       282900   \n",
      "15          Kona electric 64kWh                       178400   \n",
      "18                 e-Niro 64kWh                       167990   \n",
      "20                 e-Soul 64kWh                       160990   \n",
      "22                          EQC                       334700   \n",
      "39  Model 3 Standard Range Plus                       195490   \n",
      "40           Model 3 Long Range                       235490   \n",
      "41          Model 3 Performance                       260490   \n",
      "47         ID.3 Pro Performance                       155890   \n",
      "48                   ID.3 Pro S                       179990   \n",
      "49                     ID.4 1st                       202390   \n",
      "\n",
      "    Range (WLTP) [km]  \n",
      "0                 438  \n",
      "8                 460  \n",
      "15                449  \n",
      "18                455  \n",
      "20                452  \n",
      "22                414  \n",
      "39                430  \n",
      "40                580  \n",
      "41                567  \n",
      "47                425  \n",
      "48                549  \n",
      "49                500  \n"
     ]
    }
   ],
   "source": [
    "# Filter the DataFrame\n",
    "filtered_df = df[\n",
    "    (df[\"Minimal price (gross) [PLN]\"] <= 350000) &\n",
    "    (df[\"Range (WLTP) [km]\"] >= 400)\n",
    "]\n",
    "\n",
    "# Display the filtered results\n",
    "print(filtered_df[[\"Car full name\", \"Make\", \"Model\", \n",
    "                   \"Minimal price (gross) [PLN]\", \n",
    "                   \"Range (WLTP) [km]\"]])"
   ]
  },
  {
   "cell_type": "markdown",
   "metadata": {},
   "source": [
    "**Step 4: Group by Manufacturer**\n",
    "\n",
    "We are group the filtered results by the manufacturer (Make) to see which manufacturers offer EVs that meet the customer's requirements"
   ]
  },
  {
   "cell_type": "code",
   "execution_count": 19,
   "metadata": {},
   "outputs": [
    {
     "name": "stdout",
     "output_type": "stream",
     "text": [
      "                        Car full name                        Model  \\\n",
      "0              Audi e-tron 55 quattro            e-tron 55 quattro   \n",
      "1                             BMW iX3                          iX3   \n",
      "2         Hyundai Kona electric 64kWh          Kona electric 64kWh   \n",
      "3                    Kia e-Niro 64kWh                 e-Niro 64kWh   \n",
      "4                    Kia e-Soul 64kWh                 e-Soul 64kWh   \n",
      "5                   Mercedes-Benz EQC                          EQC   \n",
      "6   Tesla Model 3 Standard Range Plus  Model 3 Standard Range Plus   \n",
      "7            Tesla Model 3 Long Range           Model 3 Long Range   \n",
      "8           Tesla Model 3 Performance          Model 3 Performance   \n",
      "9     Volkswagen ID.3 Pro Performance         ID.3 Pro Performance   \n",
      "10              Volkswagen ID.3 Pro S                   ID.3 Pro S   \n",
      "11                Volkswagen ID.4 1st                     ID.4 1st   \n",
      "\n",
      "    Minimal price (gross) [PLN]  Range (WLTP) [km]  \n",
      "0                        345700                438  \n",
      "1                        282900                460  \n",
      "2                        178400                449  \n",
      "3                        167990                455  \n",
      "4                        160990                452  \n",
      "5                        334700                414  \n",
      "6                        195490                430  \n",
      "7                        235490                580  \n",
      "8                        260490                567  \n",
      "9                        155890                425  \n",
      "10                       179990                549  \n",
      "11                       202390                500  \n"
     ]
    }
   ],
   "source": [
    "# Sample: Filtered DataFrame (Ensure 'filtered_df' is already created)\n",
    "grouped_df = filtered_df.groupby(\"Make\")  # Group by \"Make\"\n",
    "\n",
    "# Combine grouped data into a new DataFrame\n",
    "grouped_results = grouped_df.apply(lambda x: x[[\"Car full name\", \"Model\", \n",
    "                                                \"Minimal price (gross) [PLN]\", \n",
    "                                                \"Range (WLTP) [km]\"]])\n",
    "\n",
    "# Reset the index to avoid multi-level indexing\n",
    "grouped_results = grouped_results.reset_index(drop=True)\n",
    "\n",
    "# Display the DataFrame\n",
    "print(grouped_results)"
   ]
  },
  {
   "cell_type": "markdown",
   "metadata": {},
   "source": [
    "---"
   ]
  },
  {
   "cell_type": "markdown",
   "metadata": {},
   "source": [
    "<h4>c. Calculate the average battery capacity for each manufacturer.</h4>"
   ]
  },
  {
   "cell_type": "markdown",
   "metadata": {},
   "source": [
    "**Step 1: Import Required Libraries**\n",
    "\n",
    "We are use Pandas for data manipulation and filtering."
   ]
  },
  {
   "cell_type": "code",
   "execution_count": 20,
   "metadata": {},
   "outputs": [],
   "source": [
    "import pandas as pd"
   ]
  },
  {
   "cell_type": "markdown",
   "metadata": {},
   "source": [
    "**Step 2: Load the Dataset**\n",
    "\n",
    "We are load the dataset into a Pandas DataFrame for analysis."
   ]
  },
  {
   "cell_type": "code",
   "execution_count": 21,
   "metadata": {},
   "outputs": [],
   "source": [
    "# Define the dataset as a dictionary\n",
    "data = pd.read_csv('auta_elektryczne_cleaned.csv')\n",
    "\n",
    "# Convert the dictionary to a Pandas DataFrame\n",
    "df = pd.DataFrame(data)"
   ]
  },
  {
   "cell_type": "markdown",
   "metadata": {},
   "source": [
    "**Step 3: Filter the Dataset**\n",
    "\n",
    "We are filter the dataset based on the customer's criteria:\n",
    "\n",
    "1. **Budget**: Minimal price ≤ 350,000 PLN.\n",
    "2. **Range**: Range (WLTP) ≥ 400 km."
   ]
  },
  {
   "cell_type": "code",
   "execution_count": 22,
   "metadata": {},
   "outputs": [
    {
     "name": "stdout",
     "output_type": "stream",
     "text": [
      "                        Car full name           Make  \\\n",
      "0              Audi e-tron 55 quattro           Audi   \n",
      "8                             BMW iX3            BMW   \n",
      "15        Hyundai Kona electric 64kWh        Hyundai   \n",
      "18                   Kia e-Niro 64kWh            Kia   \n",
      "20                   Kia e-Soul 64kWh            Kia   \n",
      "22                  Mercedes-Benz EQC  Mercedes-Benz   \n",
      "39  Tesla Model 3 Standard Range Plus          Tesla   \n",
      "40           Tesla Model 3 Long Range          Tesla   \n",
      "41          Tesla Model 3 Performance          Tesla   \n",
      "47    Volkswagen ID.3 Pro Performance     Volkswagen   \n",
      "48              Volkswagen ID.3 Pro S     Volkswagen   \n",
      "49                Volkswagen ID.4 1st     Volkswagen   \n",
      "\n",
      "                          Model  Minimal price (gross) [PLN]  \\\n",
      "0             e-tron 55 quattro                       345700   \n",
      "8                           iX3                       282900   \n",
      "15          Kona electric 64kWh                       178400   \n",
      "18                 e-Niro 64kWh                       167990   \n",
      "20                 e-Soul 64kWh                       160990   \n",
      "22                          EQC                       334700   \n",
      "39  Model 3 Standard Range Plus                       195490   \n",
      "40           Model 3 Long Range                       235490   \n",
      "41          Model 3 Performance                       260490   \n",
      "47         ID.3 Pro Performance                       155890   \n",
      "48                   ID.3 Pro S                       179990   \n",
      "49                     ID.4 1st                       202390   \n",
      "\n",
      "    Range (WLTP) [km]  Battery capacity [kWh]  \n",
      "0                 438                    95.0  \n",
      "8                 460                    80.0  \n",
      "15                449                    64.0  \n",
      "18                455                    64.0  \n",
      "20                452                    64.0  \n",
      "22                414                    80.0  \n",
      "39                430                    54.0  \n",
      "40                580                    75.0  \n",
      "41                567                    75.0  \n",
      "47                425                    58.0  \n",
      "48                549                    77.0  \n",
      "49                500                    77.0  \n"
     ]
    }
   ],
   "source": [
    "# Filter the DataFrame\n",
    "filtered_df = df[\n",
    "    (df[\"Minimal price (gross) [PLN]\"] <= 350000) &\n",
    "    (df[\"Range (WLTP) [km]\"] >= 400)\n",
    "]\n",
    "\n",
    "# Display the filtered results\n",
    "print(filtered_df[[\"Car full name\", \"Make\", \"Model\", \n",
    "                   \"Minimal price (gross) [PLN]\", \"Range (WLTP) [km]\", \n",
    "                   \"Battery capacity [kWh]\"]])"
   ]
  },
  {
   "cell_type": "markdown",
   "metadata": {},
   "source": [
    "**Step 4: Group by Manufacturer and Calculate Average Battery Capacity**\n",
    "\n",
    "We are group the filtered results by the manufacturer (Make) and calculate the average battery capacity for each manufacturer."
   ]
  },
  {
   "cell_type": "code",
   "execution_count": 23,
   "metadata": {},
   "outputs": [
    {
     "name": "stdout",
     "output_type": "stream",
     "text": [
      "\n",
      "Average Battery Capacity by Manufacturer:\n",
      "    Manufacturer  Average Battery Capacity [kWh]\n",
      "0           Audi                       95.000000\n",
      "1            BMW                       80.000000\n",
      "2        Hyundai                       64.000000\n",
      "3            Kia                       64.000000\n",
      "4  Mercedes-Benz                       80.000000\n",
      "5          Tesla                       68.000000\n",
      "6     Volkswagen                       70.666667\n"
     ]
    }
   ],
   "source": [
    "# Group the filtered DataFrame by \"Make\" and calculate the average battery capacity\n",
    "average_battery_capacity = (\n",
    "    filtered_df.groupby(\"Make\")[\"Battery capacity [kWh]\"]\n",
    "    .mean()\n",
    "    .reset_index()\n",
    ")\n",
    "\n",
    "# Rename the columns for clarity\n",
    "average_battery_capacity.columns = [\"Manufacturer\", \n",
    "                                    \"Average Battery Capacity [kWh]\"]\n",
    "\n",
    "# Display the results\n",
    "print(\"\\nAverage Battery Capacity by Manufacturer:\")\n",
    "print(average_battery_capacity)"
   ]
  },
  {
   "cell_type": "markdown",
   "metadata": {},
   "source": [
    "---"
   ]
  }
 ],
 "metadata": {
  "kernelspec": {
   "display_name": "JupyterBook",
   "language": "python",
   "name": "python3"
  },
  "language_info": {
   "codemirror_mode": {
    "name": "ipython",
    "version": 3
   },
   "file_extension": ".py",
   "mimetype": "text/x-python",
   "name": "python",
   "nbconvert_exporter": "python",
   "pygments_lexer": "ipython3",
   "version": "3.11.11"
  }
 },
 "nbformat": 4,
 "nbformat_minor": 2
}
