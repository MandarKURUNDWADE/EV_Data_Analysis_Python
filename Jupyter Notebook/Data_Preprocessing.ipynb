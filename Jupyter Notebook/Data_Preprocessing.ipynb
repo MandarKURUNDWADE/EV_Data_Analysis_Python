{
 "cells": [
  {
   "cell_type": "markdown",
   "metadata": {},
   "source": [
    "<h2 style=\"text-align:center;\">Electric Vehicle Data Analysis Project</h2>\n",
    "\n",
    "<h3 style=\"text-align:center;\">Python-Final Project</h3>\n",
    "\n",
    "---"
   ]
  },
  {
   "cell_type": "markdown",
   "metadata": {},
   "source": [
    "<h4>Dataset Review and Observations:</h4>\n",
    "\n",
    "Before proceeding with data analysis, we conducted an initial review of the dataset to ensure data quality and minimize potential issues. The following key observations were noted:  \n",
    "\n",
    "1. **Handling Missing Values**  \n",
    "   - Identified columns containing missing values.  \n",
    "   - Assessed the extent of missing data to determine an appropriate handling strategy (e.g., imputation or removal).  \n",
    "\n",
    "2. **Brake Type Extraction**  \n",
    "   - Extracted both front and rear brake types separately to facilitate detailed analysis.  \n",
    "\n",
    "3. **Drive Type and Position Separation**  \n",
    "   - The \"Drive Type\" column was processed to separate the drive type (e.g., 4WD, 2WD).  \n",
    "   - Additionally, extracted the drive position (front or rear) where applicable.  "
   ]
  },
  {
   "cell_type": "markdown",
   "metadata": {},
   "source": [
    "---"
   ]
  },
  {
   "cell_type": "markdown",
   "metadata": {},
   "source": [
    "<h4>Explanation of Why Each Method Was Used:</h4>\n",
    "\n",
    "1. **`Type of brakes` (Categorical Column)**:\n",
    "   - **Method Used**: **Mode** (most frequent value).\n",
    "   - **Reason**: Since this is a categorical column, the mode is the most appropriate measure of central tendency. It ensures that the most common type of brakes is used to fill missing values, which is logical for this type of data.\n",
    "\n",
    "2. **`Permissable gross weight [kg]` (Numerical Column)**:\n",
    "   - **Method Used**: **Median**.\n",
    "   - **Reason**: The median is robust to outliers. If there are extreme values in this column (e.g., very high or very low weights), the median will provide a more representative value than the mean.\n",
    "\n",
    "3. **`Maximum load capacity [kg]` (Numerical Column)**:\n",
    "   - **Method Used**: **Median**.\n",
    "   - **Reason**: Similar to `Permissable gross weight [kg]`, this column may have outliers. The median ensures that the imputed value is not skewed by extreme values.\n",
    "\n",
    "4. **`Acceleration 0-100 kph [s]` (Numerical Column)**:\n",
    "   - **Method Used**: **Mean**.\n",
    "   - **Reason**: Acceleration times are typically normally distributed (without extreme outliers). The mean provides a balanced estimate of the central tendency for this type of data.\n",
    "\n",
    "5. **`Boot capacity (VDA) [l]` (Numerical Column)**:\n",
    "   - **Method Used**: **Median**.\n",
    "   - **Reason**: Boot capacity may have some outliers (e.g., very large or very small capacities). The median is a better choice to avoid skewing the imputed values.\n",
    "\n",
    "6. **`mean - Energy consumption [kWh/100 km]` (Numerical Column)**:\n",
    "   - **Method Used**: **Mean**.\n",
    "   - **Reason**: Energy consumption is likely to follow a normal distribution. The mean provides a good estimate of the average consumption for cars with missing values.\n"
   ]
  },
  {
   "cell_type": "markdown",
   "metadata": {},
   "source": [
    "---"
   ]
  },
  {
   "cell_type": "markdown",
   "metadata": {},
   "source": [
    "<h4>A. Python Code to Handle Missing Values</h4>\n",
    "\n",
    "Here’s how you can implement the above strategies using Python and the `pandas` library:"
   ]
  },
  {
   "cell_type": "code",
   "execution_count": 2,
   "metadata": {},
   "outputs": [
    {
     "name": "stdout",
     "output_type": "stream",
     "text": [
      "Missing values have been filled and the dataset has been saved.\n"
     ]
    }
   ],
   "source": [
    "import pandas as pd\n",
    "\n",
    "# Load the dataset\n",
    "df = pd.read_csv('auta_elektryczne.csv')\n",
    "\n",
    "# Fill missing values for each column\n",
    "# 1. Type of brakes (categorical) - Use MODE\n",
    "df['Type of brakes'] = (\n",
    "    df['Type of brakes']\n",
    "    .fillna(df['Type of brakes']\n",
    "    .mode()[0])\n",
    "    )\n",
    "\n",
    "# 2. Permissable gross weight [kg] (numerical) - Use MEDIAN\n",
    "df['Permissable gross weight [kg]'] = (\n",
    "    df['Permissable gross weight [kg]']\n",
    "    .fillna(round(df['Permissable gross weight [kg]']\n",
    "    .median(),2))\n",
    "    )\n",
    "\n",
    "# 3. Maximum load capacity [kg] (numerical) - Use MEDIAN\n",
    "df['Maximum load capacity [kg]'] = (\n",
    "    df['Maximum load capacity [kg]']\n",
    "    .fillna(round(df['Maximum load capacity [kg]']\n",
    "    .median(),2))\n",
    "    )\n",
    "\n",
    "# 4. Acceleration 0-100 kph [s] (numerical) - Use MEAN\n",
    "df['Acceleration 0-100 kph [s]'] = (\n",
    "    df['Acceleration 0-100 kph [s]']\n",
    "    .fillna(round(df['Acceleration 0-100 kph [s]']\n",
    "    .mean(),2))\n",
    "    )\n",
    "\n",
    "# 5. Boot capacity (VDA) [l] (numerical) - Use MEDIAN\n",
    "df['Boot capacity (VDA) [l]'] = (\n",
    "    df['Boot capacity (VDA) [l]']\n",
    "    .fillna(round(df['Boot capacity (VDA) [l]']\n",
    "    .median(),2))\n",
    "    )\n",
    "\n",
    "# 6. mean - Energy consumption [kWh/100 km] (numerical) - Use MEAN\n",
    "df['mean - Energy consumption [kWh/100 km]'] = (\n",
    "    df['mean - Energy consumption [kWh/100 km]']\n",
    "    .fillna(round(df['mean - Energy consumption [kWh/100 km]']\n",
    "    .mean(),2))\n",
    "    )\n",
    "\n",
    "# Save the cleaned dataset\n",
    "df.to_csv('auta_elektryczne_missing_data_fix.csv', \n",
    "          index=False)\n",
    "\n",
    "print(\"Missing values have been filled and the dataset has been saved.\")"
   ]
  },
  {
   "cell_type": "markdown",
   "metadata": {},
   "source": [
    "---"
   ]
  },
  {
   "cell_type": "markdown",
   "metadata": {},
   "source": [
    " <h4> B. Brake Type Extraction </h4>\n",
    "\n",
    "To handle the **`Type of brakes`** column, where the braking system has two different formats:\n",
    "1. **`disc (front + rear)`**\n",
    "2. **`disc (front) + drum (rear)`**\n",
    "\n",
    "We can **split the column into two separate columns**: **`Front Brakes`** and **`Rear Brakes`**. This will make the data more structured and easier to analyze."
   ]
  },
  {
   "cell_type": "code",
   "execution_count": 3,
   "metadata": {},
   "outputs": [
    {
     "name": "stdout",
     "output_type": "stream",
     "text": [
      "                      Car full name Front Brakes Rear Brakes\n",
      "0            Audi e-tron 55 quattro         disc        disc\n",
      "1            Audi e-tron 50 quattro         disc        disc\n",
      "2             Audi e-tron S quattro         disc        disc\n",
      "3  Audi e-tron Sportback 50 quattro         disc        disc\n",
      "4  Audi e-tron Sportback 55 quattro         disc        disc\n"
     ]
    }
   ],
   "source": [
    "import pandas as pd\n",
    "\n",
    "# Load the dataset\n",
    "df = pd.read_csv('auta_elektryczne_missing_data_fix.csv')\n",
    "\n",
    "# Function to extract front and rear brake types\n",
    "def extract_brakes(brake_string):\n",
    "    if 'disc (front + rear)' in brake_string:\n",
    "        return 'disc', 'disc'\n",
    "    elif 'disc (front) + drum (rear)' in brake_string:\n",
    "        return 'disc', 'drum'\n",
    "    else:\n",
    "        return None, None  # Handle unexpected formats\n",
    "\n",
    "# Apply the function to create new columns\n",
    "df[['Front Brakes', 'Rear Brakes']] = (\n",
    "    df['Type of brakes']\n",
    "    .apply(extract_brakes)\n",
    "    .apply(pd.Series)\n",
    "    )\n",
    "\n",
    "# Drop the original 'Type of brakes' column (optional)\n",
    "df.drop(columns=['Type of brakes'], \n",
    "        inplace=True)\n",
    "\n",
    "# Save the updated dataset\n",
    "df.to_csv('auta_elektryczne_brake_extraction.csv', \n",
    "          index=False)\n",
    "\n",
    "# Display the first few rows to verify\n",
    "print(\n",
    "    df[['Car full name', 'Front Brakes', 'Rear Brakes']]\n",
    "    .head()\n",
    "    )"
   ]
  },
  {
   "cell_type": "markdown",
   "metadata": {},
   "source": [
    "---"
   ]
  },
  {
   "cell_type": "markdown",
   "metadata": {},
   "source": [
    "<h4>C. Drive Type and Position Separation</h4>\n",
    "\n",
    "To handle the **`Drive type`** column, we need to:\n",
    "1. **Extract the drive type** (e.g., `4WD` or `2WD`).\n",
    "2. **Extract the drive position** (e.g., `front` or `rear`) when applicable.\n",
    "\n",
    "Here’s how you can achieve this in Python using pandas:"
   ]
  },
  {
   "cell_type": "code",
   "execution_count": 4,
   "metadata": {},
   "outputs": [
    {
     "name": "stdout",
     "output_type": "stream",
     "text": [
      "                      Car full name Drive Type Drive Position\n",
      "48            Volkswagen ID.3 Pro S        2WD           rear\n",
      "0            Audi e-tron 55 quattro        4WD           None\n",
      "30  Porsche Taycan 4S (Performance)        4WD           None\n",
      "12                  Honda e Advance        2WD           rear\n",
      "22                Mercedes-Benz EQC        4WD           None\n",
      "15      Hyundai Kona electric 64kWh        2WD          front\n"
     ]
    }
   ],
   "source": [
    "import pandas as pd\n",
    "\n",
    "# Load the dataset\n",
    "df = pd.read_csv('auta_elektryczne_brake_extraction.csv')\n",
    "\n",
    "# Function to extract drive type and drive position\n",
    "def extract_drive_info(drive_string):\n",
    "    if '4WD' in drive_string:\n",
    "        return '4WD', None  # 4WD doesn't have a specific position\n",
    "    elif '2WD' in drive_string:\n",
    "        if '(front)' in drive_string:\n",
    "            return '2WD', 'front'\n",
    "        elif '(rear)' in drive_string:\n",
    "            return '2WD', 'rear'\n",
    "    return None, None  # Handle unexpected formats\n",
    "\n",
    "# Apply the function to create new columns\n",
    "df[['Drive Type', 'Drive Position']] = (\n",
    "    df['Drive type']\n",
    "    .apply(extract_drive_info)\n",
    "    .apply(pd.Series)\n",
    "    )\n",
    "\n",
    "# Drop the original 'Drive type' column (optional)\n",
    "df.drop(columns=['Drive type'], inplace=True)\n",
    "\n",
    "# Replace blank (NaN) cells with 'None' in the 'Drive Position' column\n",
    "df['Drive Position'] = df['Drive Position'].fillna('None')\n",
    "\n",
    "# Save the updated dataset\n",
    "df.to_csv('auta_elektryczne_drive_extracted.csv', index=False)\n",
    "df.to_csv('auta_elektryczne_cleaned.csv', index=False)\n",
    "\n",
    "# Display the first few rows to verify\n",
    "print(df[['Car full name', 'Drive Type', \n",
    "          'Drive Position']].sample(6))"
   ]
  },
  {
   "cell_type": "markdown",
   "metadata": {},
   "source": [
    "---"
   ]
  }
 ],
 "metadata": {
  "kernelspec": {
   "display_name": "JupyterBook",
   "language": "python",
   "name": "python3"
  },
  "language_info": {
   "codemirror_mode": {
    "name": "ipython",
    "version": 3
   },
   "file_extension": ".py",
   "mimetype": "text/x-python",
   "name": "python",
   "nbconvert_exporter": "python",
   "pygments_lexer": "ipython3",
   "version": "3.11.11"
  }
 },
 "nbformat": 4,
 "nbformat_minor": 2
}
